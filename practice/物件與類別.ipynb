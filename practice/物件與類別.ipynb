{
 "cells": [
  {
   "cell_type": "markdown",
   "metadata": {},
   "source": [
    "## 類別與方法"
   ]
  },
  {
   "cell_type": "code",
   "execution_count": 3,
   "metadata": {
    "collapsed": false
   },
   "outputs": [
    {
     "name": "stdout",
     "output_type": "stream",
     "text": [
      "I am Bella\n"
     ]
    }
   ],
   "source": [
    "class Person():\n",
    "    pass    "
   ]
  },
  {
   "cell_type": "code",
   "execution_count": 7,
   "metadata": {
    "collapsed": false
   },
   "outputs": [
    {
     "name": "stdout",
     "output_type": "stream",
     "text": [
      "<__main__.Person instance at 0x000000000397E1C8>\n"
     ]
    }
   ],
   "source": [
    "someone=Person()"
   ]
  },
  {
   "cell_type": "code",
   "execution_count": null,
   "metadata": {
    "collapsed": true
   },
   "outputs": [],
   "source": [
    "class Person():\n",
    "    def __int__(self):  #初始方法\n",
    "        pass"
   ]
  },
  {
   "cell_type": "code",
   "execution_count": 27,
   "metadata": {
    "collapsed": false
   },
   "outputs": [],
   "source": [
    "class Person():\n",
    "    def __init__(self, name):  #初始方法\n",
    "        self.name=name"
   ]
  },
  {
   "cell_type": "code",
   "execution_count": 10,
   "metadata": {
    "collapsed": false
   },
   "outputs": [
    {
     "name": "stdout",
     "output_type": "stream",
     "text": [
      "('A', 3)\n"
     ]
    }
   ],
   "source": [
    "print ('A',3)"
   ]
  },
  {
   "cell_type": "code",
   "execution_count": 31,
   "metadata": {
    "collapsed": false
   },
   "outputs": [
    {
     "name": "stdout",
     "output_type": "stream",
     "text": [
      "Mark\n"
     ]
    }
   ],
   "source": [
    "hunter=Person(\"Mark\")\n",
    "#hunter.name=\"Mark\"\n",
    "print hunter.name"
   ]
  },
  {
   "cell_type": "code",
   "execution_count": 30,
   "metadata": {
    "collapsed": false
   },
   "outputs": [
    {
     "name": "stdout",
     "output_type": "stream",
     "text": [
      "Bella\n"
     ]
    }
   ],
   "source": [
    "hunter.name=\"Bella\"\n",
    "print hunter.name"
   ]
  },
  {
   "cell_type": "markdown",
   "metadata": {},
   "source": [
    "## 繼承"
   ]
  },
  {
   "cell_type": "code",
   "execution_count": 32,
   "metadata": {
    "collapsed": true
   },
   "outputs": [],
   "source": [
    "class car():\n",
    "    pass\n",
    "\n",
    "class bicke(car):\n",
    "    pass"
   ]
  },
  {
   "cell_type": "code",
   "execution_count": 33,
   "metadata": {
    "collapsed": true
   },
   "outputs": [],
   "source": [
    "#在每一個類別建立一個物件\n",
    "give_me_a_car=car()\n",
    "\n",
    "give_me_a_bicke=bicke()"
   ]
  },
  {
   "cell_type": "code",
   "execution_count": 39,
   "metadata": {
    "collapsed": true
   },
   "outputs": [],
   "source": [
    "class car():\n",
    "    def exclaim(self):\n",
    "        print (\"I'm a Car!\")\n",
    "\n",
    "class bicke(car):\n",
    "    pass"
   ]
  },
  {
   "cell_type": "code",
   "execution_count": 45,
   "metadata": {
    "collapsed": false
   },
   "outputs": [
    {
     "name": "stdout",
     "output_type": "stream",
     "text": [
      "-------------by  give_me_a_car-----------------\n",
      "I'm a Car!\n",
      "-----------by  give_me_a_bicke -------------------\n",
      "I'm a Car!\n"
     ]
    }
   ],
   "source": [
    "give_me_a_car=car()\n",
    "give_me_a_bicke=bicke()\n",
    "print \"-------------by  give_me_a_car-----------------\"\n",
    "give_me_a_car.exclaim()\n",
    "print \"-----------by  give_me_a_bicke -------------------\"\n",
    "give_me_a_bicke.exclaim()"
   ]
  },
  {
   "cell_type": "markdown",
   "metadata": {},
   "source": [
    "## 覆寫"
   ]
  },
  {
   "cell_type": "code",
   "execution_count": 62,
   "metadata": {
    "collapsed": true
   },
   "outputs": [],
   "source": [
    "class car():\n",
    "    def exclaim(self):\n",
    "        print (\"I'm a Car!\")\n",
    "\n",
    "class bicke(car):\n",
    "     def exclaim(self):\n",
    "        print (\"I'm a Bicke!Not a Car!!!!!!!!!!\")"
   ]
  },
  {
   "cell_type": "code",
   "execution_count": 48,
   "metadata": {
    "collapsed": false
   },
   "outputs": [
    {
     "name": "stdout",
     "output_type": "stream",
     "text": [
      "-------------by  give_me_a_car-----------------\n",
      "I'm a Car!\n",
      "-----------by  give_me_a_bicke -------------------\n",
      "I'm a Bicke!Not a Car!!!!!!!!!!\n"
     ]
    }
   ],
   "source": [
    "give_me_a_car=car()\n",
    "give_me_a_bicke=bicke()\n",
    "print \"-------------by  give_me_a_car-----------------\"\n",
    "give_me_a_car.exclaim()\n",
    "print \"-----------by  give_me_a_bicke -------------------\"\n",
    "give_me_a_bicke.exclaim()"
   ]
  },
  {
   "cell_type": "code",
   "execution_count": 53,
   "metadata": {
    "collapsed": true
   },
   "outputs": [],
   "source": [
    "class Person():\n",
    "    def __init__(self, name):\n",
    "        self.name=name\n",
    "    \n",
    "class MDPerson(Person):\n",
    "    def __init__(self, name):\n",
    "        self.name=\"Doctor\"+name\n",
    "\n",
    "class JDPerson(Person):\n",
    "    def __init__(self, name):\n",
    "        self.name=name + \", Esquire\""
   ]
  },
  {
   "cell_type": "code",
   "execution_count": 55,
   "metadata": {
    "collapsed": false
   },
   "outputs": [
    {
     "name": "stdout",
     "output_type": "stream",
     "text": [
      "-------------by  -----------------\n",
      "Fudd\n",
      "-------------by  -----------------\n",
      "DoctorFudd\n",
      "-------------by  -----------------\n",
      "Fudd, Esquire\n"
     ]
    }
   ],
   "source": [
    "person=Person('Fudd')\n",
    "doctor=MDPerson('Fudd')\n",
    "lawyer=JDPerson('Fudd')\n",
    "print \"-------------by  -----------------\"\n",
    "print person.name\n",
    "print \"-------------by  -----------------\"\n",
    "print doctor.name\n",
    "print \"-------------by  -----------------\"\n",
    "print lawyer.name\n",
    "#此物件的屬性被覆寫了"
   ]
  },
  {
   "cell_type": "markdown",
   "metadata": {},
   "source": [
    "## 在繼承關係，孩子再添加方法"
   ]
  },
  {
   "cell_type": "code",
   "execution_count": 92,
   "metadata": {
    "collapsed": false
   },
   "outputs": [],
   "source": [
    "class car():\n",
    "    def exclaim(self):\n",
    "        print (\"I'm a Car!\")\n",
    "\n",
    "class bicke(car):\n",
    "    def exclaim(self):\n",
    "        print (\"I'm a Bicke!Not a Car!!!!!!!!!!\")\n",
    "    def need_a_push(self):\n",
    "        print (\"A little help here?\")"
   ]
  },
  {
   "cell_type": "code",
   "execution_count": 93,
   "metadata": {
    "collapsed": false
   },
   "outputs": [
    {
     "name": "stdout",
     "output_type": "stream",
     "text": [
      "-------------by  give_me_a_car-----------------\n",
      "I'm a Car!\n",
      "-----------by  give_me_a_bicke -------------------\n",
      "I'm a Bicke!Not a Car!!!!!!!!!!\n",
      "-----------by  give_me_a_bicke -------------------\n",
      "A little help here?\n",
      "<type 'NoneType'>\n"
     ]
    }
   ],
   "source": [
    "give_me_a_car=car()\n",
    "give_me_a_bicke=bicke()\n",
    "\n",
    "print \"-------------by  give_me_a_car-----------------\"\n",
    "give_me_a_car.exclaim()\n",
    "print \"-----------by  give_me_a_bicke -------------------\"\n",
    "give_me_a_bicke.exclaim()\n",
    "print \"-----------by  give_me_a_bicke -------------------\"\n",
    "print type(give_me_a_bicke.need_a_push())"
   ]
  },
  {
   "cell_type": "markdown",
   "metadata": {},
   "source": [
    "## 用 super 來讓父系幫助你"
   ]
  },
  {
   "cell_type": "code",
   "execution_count": 116,
   "metadata": {
    "collapsed": false
   },
   "outputs": [],
   "source": [
    "class Person():\n",
    "    def __init__(self, name):\n",
    "        self.name=name\n",
    "        \n",
    "        \n",
    "class EmailPerson(Person):\n",
    "    def __init__(self , name , email):\n",
    "        super().__init__(name)   #?\n",
    "        self.email=email\n"
   ]
  },
  {
   "cell_type": "code",
   "execution_count": 117,
   "metadata": {
    "collapsed": false
   },
   "outputs": [
    {
     "ename": "TypeError",
     "evalue": "super() takes at least 1 argument (0 given)",
     "output_type": "error",
     "traceback": [
      "\u001b[1;31m---------------------------------------------------------------------------\u001b[0m",
      "\u001b[1;31mTypeError\u001b[0m                                 Traceback (most recent call last)",
      "\u001b[1;32m<ipython-input-117-1eb70c4b0cd3>\u001b[0m in \u001b[0;36m<module>\u001b[1;34m()\u001b[0m\n\u001b[1;32m----> 1\u001b[1;33m \u001b[0mbob\u001b[0m\u001b[1;33m=\u001b[0m\u001b[0mEmailPerson\u001b[0m\u001b[1;33m(\u001b[0m\u001b[1;34m\"Bob Frapples\"\u001b[0m\u001b[1;33m,\u001b[0m\u001b[1;34m\"bob@frapples.com\"\u001b[0m\u001b[1;33m)\u001b[0m\u001b[1;33m\u001b[0m\u001b[0m\n\u001b[0m\u001b[0;32m      2\u001b[0m \u001b[1;32mprint\u001b[0m \u001b[0mbob\u001b[0m\u001b[1;33m.\u001b[0m\u001b[0memail\u001b[0m\u001b[1;33m\u001b[0m\u001b[0m\n",
      "\u001b[1;32m<ipython-input-116-9810a9c8ee33>\u001b[0m in \u001b[0;36m__init__\u001b[1;34m(self, name, email)\u001b[0m\n\u001b[0;32m      6\u001b[0m \u001b[1;32mclass\u001b[0m \u001b[0mEmailPerson\u001b[0m\u001b[1;33m(\u001b[0m\u001b[0mPerson\u001b[0m\u001b[1;33m)\u001b[0m\u001b[1;33m:\u001b[0m\u001b[1;33m\u001b[0m\u001b[0m\n\u001b[0;32m      7\u001b[0m     \u001b[1;32mdef\u001b[0m \u001b[0m__init__\u001b[0m\u001b[1;33m(\u001b[0m\u001b[0mself\u001b[0m \u001b[1;33m,\u001b[0m \u001b[0mname\u001b[0m \u001b[1;33m,\u001b[0m \u001b[0memail\u001b[0m\u001b[1;33m)\u001b[0m\u001b[1;33m:\u001b[0m\u001b[1;33m\u001b[0m\u001b[0m\n\u001b[1;32m----> 8\u001b[1;33m         \u001b[0msuper\u001b[0m\u001b[1;33m(\u001b[0m\u001b[1;33m)\u001b[0m\u001b[1;33m.\u001b[0m\u001b[0m__init__\u001b[0m\u001b[1;33m(\u001b[0m\u001b[0mname\u001b[0m\u001b[1;33m)\u001b[0m   \u001b[1;31m#?\u001b[0m\u001b[1;33m\u001b[0m\u001b[0m\n\u001b[0m\u001b[0;32m      9\u001b[0m         \u001b[0mself\u001b[0m\u001b[1;33m.\u001b[0m\u001b[0memail\u001b[0m\u001b[1;33m=\u001b[0m\u001b[0memail\u001b[0m\u001b[1;33m\u001b[0m\u001b[0m\n",
      "\u001b[1;31mTypeError\u001b[0m: super() takes at least 1 argument (0 given)"
     ]
    }
   ],
   "source": [
    "bob=EmailPerson(\"Bob Frapples\",\"bob@frapples.com\")\n",
    "print bob.email\n"
   ]
  },
  {
   "cell_type": "code",
   "execution_count": null,
   "metadata": {
    "collapsed": true
   },
   "outputs": [],
   "source": []
  }
 ],
 "metadata": {
  "kernelspec": {
   "display_name": "Python 2",
   "language": "python",
   "name": "python2"
  },
  "language_info": {
   "codemirror_mode": {
    "name": "ipython",
    "version": 2
   },
   "file_extension": ".py",
   "mimetype": "text/x-python",
   "name": "python",
   "nbconvert_exporter": "python",
   "pygments_lexer": "ipython2",
   "version": "2.7.11"
  }
 },
 "nbformat": 4,
 "nbformat_minor": 0
}
