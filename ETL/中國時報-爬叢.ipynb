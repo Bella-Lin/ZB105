{
 "cells": [
  {
   "cell_type": "code",
   "execution_count": null,
   "metadata": {
    "collapsed": true
   },
   "outputs": [],
   "source": [
    "#1.當日的新聞(標題 類別 日期 新聞連結 報社 )\n",
    "#2.單一新聞的 (內文 關鍵字 點擊率)\n",
    "#3.焦點新聞 \"總分頁\" 結算  \"分頁\" (當日)\n",
    "#4.分類+存檔案(在本機端分類新聞類別的資料夾)\n",
    "#焦點新聞 \"總分頁\" 結算  \"分頁\" (多日)\n",
    "#分類(在本機端分類新聞類別的資料夾)\n",
    "#存檔案\n",
    "#多日的新聞(ex,一周)"
   ]
  },
  {
   "cell_type": "markdown",
   "metadata": {},
   "source": [
    "### 1.當日的新聞(ex,類別→中國時報)(標題 類別 日期 新聞連結 報社) "
   ]
  },
  {
   "cell_type": "code",
   "execution_count": 150,
   "metadata": {
    "collapsed": false
   },
   "outputs": [
    {
     "name": "stdout",
     "output_type": "stream",
     "text": [
      "11\n"
     ]
    }
   ],
   "source": [
    "import requests\n",
    "from bs4 import BeautifulSoup as BS\n",
    "url='http://www.chinatimes.com/history-by-date/2016-03-19-2601'\n",
    "res=requests.get(url)\n",
    "soup=BS(res.text)\n",
    "#print soup\n",
    "mainPage='http://www.chinatimes.com/'\n",
    "lis=soup.select('.listRight li')\n",
    "how_many_new_in_page=len(lis)\n",
    "for li in lis:\n",
    "    title=li.select('h2')[0].text.strip() #list→unicode  加了[0]→'bs4.element.Tag' 可顯示中文字\n",
    "    category=li.select('.kindOf a')[0].text.strip() #類別\n",
    "    Data2=soup.select('.page_index li')[1]\n",
    "    Data1=Data2.select('h6 a')[0]['href'][0:].split('-')\n",
    "    Data=Data1[0]+Data1[1]+Data1[2]  #yyyymmdd  日期    \n",
    "    newspaper_office='中國時報'       #報社\n",
    "    page1=li.select('h2 a')[0]['href'][0:]\n",
    "    each_new_page_url=mainPage+page1 \n",
    "    second_url=requests.get(each_new_page_url)\n",
    "    second_usoup=BS(second_url.text)  #新聞連結\n",
    "    #print second_usoup\n",
    "    "
   ]
  },
  {
   "cell_type": "markdown",
   "metadata": {},
   "source": [
    "### 2.單一新聞的 (內文 關鍵字 點擊率)"
   ]
  },
  {
   "cell_type": "code",
   "execution_count": 17,
   "metadata": {
    "collapsed": true
   },
   "outputs": [
    {
     "name": "stdout",
     "output_type": "stream",
     "text": [
      "五二○進入倒數_大陸與甘比亞在敏感時刻復交_讓工商業對兩岸經貿關係深感憂慮_裕隆集團董事長嚴凱泰昨向總統當選人蔡英文請命_強調未來商業活動將呈現跨區、無國界特色_希望新執政團隊上台後能加強推動兩岸經貿_尤其貨貿延宕影響整車輸出_業者因無法銷往大陸_必需承擔出口獨押中東國家的風險_\n",
      "嚴凱泰認為_台灣車市每年不過40萬輛出頭_市場規模侷限發展空間_台灣的優勢是很好的人才及科技產業背景_只要能夠落實兩岸分工_就有機會在全球汽車產業翻身_但這有賴政府的兩岸政策從旁協助_\n",
      "兩岸能分工 台灣就能翻身\n",
      "嚴凱泰向來力挺九二共識_且與馬英九總統交好_長年被視為「馬友友」代表人物_此次以汽車產業領袖身分_向蔡英文呼籲應重視兩岸經貿往來_格外受到關注_\n",
      "蔡英文昨在嚴凱泰力邀下_走訪裕隆汽車總部_這也是蔡英文兩周前南下高雄_參與氫能源城市論壇_試乘由和泰汽車導入的豐田氫能車款Mirai後_再度與汽車產業近距離接觸_\n",
      "新款電動車 愛車小英試乘\n",
      "嚴凱泰表示_新政府以創新改革為施政主軸_蔡準總統與未來的新執政團隊近期密集參訪各產業_同時關心汽車工業發展_對此感到非常感謝_隨著科技創新、進步_民眾生活形態改變_希望透過研討會交流_幫台灣找到更多競爭力_\n",
      "裕隆昨天準備2款即將推出的新車款供蔡英文試乘_包括預計第2季上市的納智捷電動車S3 EV及福祉車V7_展示裕隆耕耘自主品牌的成果_愛車的蔡英文二話不說坐上S3 EV駕駛座_給足嚴凱泰面子_\n",
      "進口車襲台 嚴憂將澳洲化\n",
      "參觀完畢後_蔡英文與嚴凱泰等人舉行閉門會議_據了解嚴凱泰在會議中希望政府能保護國內汽車產業_尤其在進口車市占率逼近4成_國產車面臨生死存亡之時_稍不慎就會面臨「澳洲化」_完全沒有生存空間_\n",
      "針對嚴凱泰擔憂貨貿延宕_經濟部長鄧振中說_汽車零組件超過千件_業者一直希望整車輸出到大陸_但現在立法院希望貨貿能延後再談_經濟部只能尊重立委的決議_期盼新政府上台後_能趕快處理貨貿談判_因為整車輸往大陸對汽車業真的是很重要的事情_\n",
      "(中國時報)\n"
     ]
    }
   ],
   "source": [
    "each_new_page_url='http://www.chinatimes.com/newspapers/20160319000319-260102'\n",
    "second_url=requests.get(each_new_page_url)\n",
    "second_usoup=BS(second_url.text)\n",
    "hits=second_usoup.findAll('div',{'class':'art_click clear-fix'})[0]\n",
    "number_of_hits = int(hits.select('span')[1].text)         #點擊率\n",
    "all_p_tags=second_usoup.select('.clear-fix p')[:-6]\n",
    "\n",
    "for p_tag in all_p_tags:\n",
    "    p_tag1=str(p_tag).replace(\"，\",\"_\")\n",
    "    p_tag2=str(p_tag1).replace(\"。\",\"_\")\n",
    "    p_tag3=str(p_tag2).replace(\"<p>\",\"\")\n",
    "    p_tag4=str(p_tag3).replace(\"</p>\",\"\")\n",
    "    print p_tag4                                          #內文(已將 \"，\" & \"。\"轉換)\n",
    "    \n",
    "\n",
    "keyword=second_usoup.select('.a_k a')\n",
    "i=0\n",
    "for kwords in range(len(keyword)):\n",
    "    keyword=second_usoup.select('.a_k a')[i]\n",
    "    #print keyword.text                                    #此頁新聞的關鍵字\n",
    "    i=i+1\n",
    "\n"
   ]
  },
  {
   "cell_type": "markdown",
   "metadata": {
    "collapsed": true
   },
   "source": [
    "### 3.焦點新聞 \"總分頁\" 結算  \"分頁\" (當日)"
   ]
  },
  {
   "cell_type": "code",
   "execution_count": 161,
   "metadata": {
    "collapsed": true
   },
   "outputs": [
    {
     "name": "stdout",
     "output_type": "stream",
     "text": [
      "23\n",
      "http://www.chinatimes.com/history-by-date/2016-03-19-2601?page=0\n",
      "http://www.chinatimes.com/history-by-date/2016-03-19-2601?page=1\n",
      "http://www.chinatimes.com/history-by-date/2016-03-19-2601?page=2\n",
      "http://www.chinatimes.com/history-by-date/2016-03-19-2601?page=3\n",
      "http://www.chinatimes.com/history-by-date/2016-03-19-2601?page=4\n",
      "http://www.chinatimes.com/history-by-date/2016-03-19-2601?page=5\n",
      "http://www.chinatimes.com/history-by-date/2016-03-19-2601?page=6\n",
      "http://www.chinatimes.com/history-by-date/2016-03-19-2601?page=7\n",
      "http://www.chinatimes.com/history-by-date/2016-03-19-2601?page=8\n",
      "http://www.chinatimes.com/history-by-date/2016-03-19-2601?page=9\n",
      "http://www.chinatimes.com/history-by-date/2016-03-19-2601?page=10\n",
      "http://www.chinatimes.com/history-by-date/2016-03-19-2601?page=11\n",
      "http://www.chinatimes.com/history-by-date/2016-03-19-2601?page=12\n",
      "http://www.chinatimes.com/history-by-date/2016-03-19-2601?page=13\n",
      "http://www.chinatimes.com/history-by-date/2016-03-19-2601?page=14\n",
      "http://www.chinatimes.com/history-by-date/2016-03-19-2601?page=15\n",
      "http://www.chinatimes.com/history-by-date/2016-03-19-2601?page=16\n",
      "http://www.chinatimes.com/history-by-date/2016-03-19-2601?page=17\n",
      "http://www.chinatimes.com/history-by-date/2016-03-19-2601?page=18\n",
      "http://www.chinatimes.com/history-by-date/2016-03-19-2601?page=19\n",
      "http://www.chinatimes.com/history-by-date/2016-03-19-2601?page=20\n",
      "http://www.chinatimes.com/history-by-date/2016-03-19-2601?page=21\n",
      "http://www.chinatimes.com/history-by-date/2016-03-19-2601?page=22\n",
      "http://www.chinatimes.com/history-by-date/2016-03-19-2601?page=23\n"
     ]
    }
   ],
   "source": [
    "import re  #正規化\n",
    "import math\n",
    "total_pages1=soup.select('.listLeft ul')[0].select('li')[0].select('span')[1]\n",
    "total_pages2=(str(total_pages1.text))\n",
    "\n",
    "dic=[total_pages2,\"apple\"]\n",
    "\n",
    "for ele in dic: \n",
    "    #print dic\n",
    "    m=re.search('\\((?P<username>\\d+)\\)',ele)\n",
    "    if m:\n",
    "        #print type(m.group('username'))\n",
    "        total_pages=int(m.group('username'))   #總頁數\n",
    "#print total_pages\n",
    "#print how_many_new_in_page\n",
    "how_many_page=int(math.ceil(total_pages/float(how_many_new_in_page))) #有多少分頁\n",
    "#print how_many_page\n",
    "\n",
    "for j in xrange(how_many_page+1):\n",
    "    secondPages='http://www.chinatimes.com/history-by-date/2016-03-19-2601?page={}'.format(j)  #僅此2016-03-19-2601，之後要做不同天的!\n",
    "    print secondPages"
   ]
  },
  {
   "cell_type": "markdown",
   "metadata": {},
   "source": [
    "### 4.分類+存檔案(在本機端分類新聞類別的資料夾)"
   ]
  },
  {
   "cell_type": "code",
   "execution_count": null,
   "metadata": {
    "collapsed": true
   },
   "outputs": [],
   "source": []
  }
 ],
 "metadata": {
  "kernelspec": {
   "display_name": "Python 2",
   "language": "python",
   "name": "python2"
  },
  "language_info": {
   "codemirror_mode": {
    "name": "ipython",
    "version": 2
   },
   "file_extension": ".py",
   "mimetype": "text/x-python",
   "name": "python",
   "nbconvert_exporter": "python",
   "pygments_lexer": "ipython2",
   "version": "2.7.11"
  }
 },
 "nbformat": 4,
 "nbformat_minor": 0
}
