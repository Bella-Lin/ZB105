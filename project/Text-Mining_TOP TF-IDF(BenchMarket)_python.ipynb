{
 "cells": [
  {
   "cell_type": "markdown",
   "metadata": {},
   "source": [
    "### connect mongoDB"
   ]
  },
  {
   "cell_type": "code",
   "execution_count": 6,
   "metadata": {
    "collapsed": false
   },
   "outputs": [
    {
     "name": "stderr",
     "output_type": "stream",
     "text": [
      "Building prefix dict from E:dics\\dict.txt.big.txt ...\n",
      "Loading model from cache c:\\users\\bigdat~1\\appdata\\local\\temp\\jieba.u93a38cfbc8cc055f8a9347c363a92cd4.cache\n",
      "Loading model cost 0.562 seconds.\n",
      "Prefix dict has been built succesfully.\n"
     ]
    }
   ],
   "source": [
    "import re\n",
    "import codecs\n",
    "from pymongo import MongoClient \n",
    "from sklearn.feature_extraction.text import TfidfVectorizer\n",
    "import numpy as np\n",
    "import re\n",
    "import jieba\n",
    "import time\n",
    "#coding=utf-8\n",
    "import sys\n",
    "import json\n",
    "jieba.set_dictionary('E:dics/dict.txt.big.txt')   #切換至中文繁體字庫\n",
    "jieba.load_userdict('E:dics/dict_keyw.txt')       #加入自建詞庫\n",
    "jieba.load_userdict('E:dics/dict_keyw_new.txt')\n",
    "\n",
    "\n",
    "client = MongoClient('10.120.28.6',27017)\n",
    "database = client['test_new1']\n",
    "collection =database['test1']\n",
    "\n",
    "def tfIdf(content):\n",
    "    vectorizer = TfidfVectorizer()\n",
    "    X = vectorizer.fit_transform(content)  \n",
    "    weight = X.toarray()\n",
    "    features = vectorizer.get_feature_names()\n",
    "    print \"特徵值數量:\",len(features)\n",
    "    return weight, features\n",
    "\n",
    "\n",
    "def getTopWeight(weight, features, resp_count, top_n):\n",
    "    top_features = []\n",
    "    for n in range(0,resp_count):  #迴圈參考上面的總文章數\n",
    "        indices = np.argsort(weight[n])[::-1]  \n",
    "        # transformer = TfidfTransformer()  #X.toarray()[5] 是第幾篇新聞的意思\n",
    "        \n",
    "        # 看TOP多少的詞\n",
    "        #top_n = 30\n",
    "        top_features.append([features[i] for i in indices[:top_n]]) #這邊的寫法會讓關鍵字中間會有空白\n",
    "    return top_features\n"
   ]
  },
  {
   "cell_type": "markdown",
   "metadata": {},
   "source": [
    "### 存檔案"
   ]
  },
  {
   "cell_type": "code",
   "execution_count": 21,
   "metadata": {
    "collapsed": false
   },
   "outputs": [
    {
     "name": "stdout",
     "output_type": "stream",
     "text": [
      "6217\n"
     ]
    }
   ],
   "source": [
    "tag1 = \"_\"\n",
    "#tag2 = \"颱風\"\n",
    "\n",
    "querry_resp = collection.find({\"$and\":[\n",
    "            {\"content\":{\"$regex\":tag1}},\n",
    "            #{\"content\":{\"$regex\":tag2}},\n",
    "        ]})\n",
    "\n",
    "#querry_resp = collection.find({\n",
    "#        \"date\":{\"$regex\":\"201601\"}\n",
    "#    })\n",
    "print querry_resp.count()\n",
    "\n",
    "with codecs.open(\"C:/Users/BIG DATA/pythonETL/project/test/project_TFIDF.txt\",'w',encoding='utf-8') as f:\n",
    "    for post in querry_resp: \n",
    "        writer=[]\n",
    "        #writer =  str(post['_id']) + \"|\"+post['content']\n",
    "        writer = post['content']\n",
    "        #print  type(summary)\n",
    "        #writer=('/'.join(jieba.cut(summary)))  #把一篇文章切完詞後 再用 \"/\" 接起來放在一起!\n",
    "        writer1=writer+'\\n'\n",
    "        f.write(writer1) "
   ]
  },
  {
   "cell_type": "markdown",
   "metadata": {},
   "source": [
    "### 讀檔+TFIDF"
   ]
  },
  {
   "cell_type": "code",
   "execution_count": 27,
   "metadata": {
    "collapsed": false
   },
   "outputs": [
    {
     "name": "stdout",
     "output_type": "stream",
     "text": [
      "查詢結果資料總筆數: 6217\n",
      " I/O time 的時間 12.9228714492 秒\n",
      "特徵值數量: 117955\n",
      "計算tf-idf的時間 2.22021583844 秒\n",
      "排序與取值的時間 11.0162351947 秒\n"
     ]
    }
   ],
   "source": [
    "#讀檔案\n",
    "time_start = time.clock()\n",
    "with codecs.open(\"C:/Users/BIG DATA/pythonETL/project/test/project_TFIDF.txt\",'r',encoding='utf-8') as f:\n",
    "    contents_IO=f.readlines()\n",
    "    #print len(contents_IO)\n",
    "    #for line in contents:\n",
    "        #print line\n",
    "\n",
    "content=[]\n",
    "for post in contents: \n",
    "    summary = post\n",
    "    content.append('/'.join(jieba.cut(summary)))\n",
    "    #title.append(post['title'])\n",
    "    \n",
    "#總文章數量\n",
    "resp_count = len(contents)\n",
    "print \"查詢結果資料總筆數:\", resp_count\n",
    "time_step1 = time.clock()\n",
    "print \" I/O time 的時間\", time_step1-time_start, \"秒\"\n",
    "\n",
    "weight, features = tfIdf(content)\n",
    "time_step2 = time.clock()\n",
    "print \"計算tf-idf的時間\", time_step2-time_step1, \"秒\"\n",
    "\n",
    "#resp_num #querr回來的第幾篇\n",
    "top_num = 20   #取tf-idf前幾高的\n",
    "tf_idf_resp = getTopWeight(weight, features, resp_count, top_num)\n",
    "time_step3 = time.clock()\n",
    "print \"排序與取值的時間\", time_step3-time_step2, \"秒\""
   ]
  },
  {
   "cell_type": "code",
   "execution_count": null,
   "metadata": {
    "collapsed": true
   },
   "outputs": [],
   "source": []
  }
 ],
 "metadata": {
  "kernelspec": {
   "display_name": "Python 2",
   "language": "python",
   "name": "python2"
  },
  "language_info": {
   "codemirror_mode": {
    "name": "ipython",
    "version": 2
   },
   "file_extension": ".py",
   "mimetype": "text/x-python",
   "name": "python",
   "nbconvert_exporter": "python",
   "pygments_lexer": "ipython2",
   "version": "2.7.11"
  }
 },
 "nbformat": 4,
 "nbformat_minor": 0
}
